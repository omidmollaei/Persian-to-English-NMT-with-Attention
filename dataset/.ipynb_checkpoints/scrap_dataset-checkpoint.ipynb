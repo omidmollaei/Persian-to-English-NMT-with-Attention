{
 "cells": [
  {
   "cell_type": "markdown",
   "id": "41a71801",
   "metadata": {},
   "source": [
    "<h3>Scrap abadis.ir to extend dataset. `abadis.ir` is a big english to persian dictionary.</h3>"
   ]
  },
  {
   "cell_type": "code",
   "execution_count": 1,
   "id": "a48fef67",
   "metadata": {},
   "outputs": [
    {
     "name": "stdout",
     "output_type": "stream",
     "text": [
      "24\n"
     ]
    }
   ],
   "source": [
    "import os\n",
    "import time\n",
    "import requests\n",
    "from tqdm import tqdm\n",
    "\n",
    "base_url = \"https://abadis.ir/entofa/\"\n",
    "# example: \"https://abadis.ir/entofa/god/\"\n",
    "\n",
    "\n",
    "def _scrap_page(url):\n",
    "    english, persian = [], []\n",
    "    html = requests.get(url)\n",
    "    html = html.text\n",
    "    html = html.split(\"<h2>جمله های نمونه</h2>\")[-1]\n",
    "    parts = html.split(\"<div class='anaTermExp'>\")[1:-1]\n",
    "    if len(parts) < 2:\n",
    "        print(\">>> warning ...\")\n",
    "        return english, persian\n",
    "    for p in parts:\n",
    "        if not \"[ترجمه گوگل]\" in p:\n",
    "            sub_parts = p.split(\"</div>\")\n",
    "            eng = sub_parts[0].split(\". \")[-1]\n",
    "            english.append(eng)\n",
    "            per = sub_parts[1].split(\">\")[1].split(\"<\")[0]\n",
    "            persian.append(per)\n",
    "    return english, persian\n",
    "\n",
    "\n",
    "def scrap_translation(init_words:list, wait=0):\n",
    "    english, persian = [], []\n",
    "    additional_words = []\n",
    "    for w in init_words:\n",
    "        url = base_url + w + \"/\"\n",
    "        print(url)\n",
    "        e, p = _scrap_page(url)\n",
    "        english = english + e\n",
    "        persian = persian + p\n",
    "        time.sleep(wait)\n",
    "        print(len(english))\n",
    "    return english, persian\n",
    "\n",
    "\n",
    "init_words = [\n",
    "    \"./init_words/source_words_1.txt\", \n",
    "    \"./init_words/source_words_2.txt\",\n",
    "    \"./init_words/source_words_3.txt\",\n",
    "    \"./init_words/source_words_4.txt\",\n",
    "    \"./init_words/source_words_5.txt\",\n",
    "    \"./init_words/source_words_6.txt\"\n",
    "]\n",
    "\n",
    "for i, src_words in enumerate(init_words):\n",
    "    with open(src_words) as src:\n",
    "        words_stack = src.readlines()\n",
    "        words_stack = [w[:-1] for w in words_stack]\n",
    "    english, persian = scrap_translation(words_stack)\n",
    "        \n",
    "    with open(f\"english_{i}.txt\", \"w\") as e:\n",
    "        for line in english:\n",
    "            e.write(line+\"\\n\")\n",
    "        \n",
    "    with open(f\"persian_{i}.txt\", \"w\", encoding=\"utf8\") as p:\n",
    "        for line in persian:\n",
    "            p.write(line+\"\\n\")"
   ]
  },
  {
   "cell_type": "code",
   "execution_count": null,
   "id": "43a138b3",
   "metadata": {},
   "outputs": [],
   "source": []
  },
  {
   "cell_type": "code",
   "execution_count": null,
   "id": "a0919744",
   "metadata": {},
   "outputs": [],
   "source": []
  },
  {
   "cell_type": "code",
   "execution_count": null,
   "id": "c793eb35",
   "metadata": {},
   "outputs": [],
   "source": []
  },
  {
   "cell_type": "code",
   "execution_count": null,
   "id": "ecde4757",
   "metadata": {},
   "outputs": [],
   "source": []
  },
  {
   "cell_type": "code",
   "execution_count": null,
   "id": "782dc37c",
   "metadata": {},
   "outputs": [],
   "source": []
  },
  {
   "cell_type": "code",
   "execution_count": null,
   "id": "468d6f00",
   "metadata": {},
   "outputs": [],
   "source": []
  },
  {
   "cell_type": "code",
   "execution_count": null,
   "id": "e761138e",
   "metadata": {},
   "outputs": [],
   "source": []
  }
 ],
 "metadata": {
  "kernelspec": {
   "display_name": "Python 3 (ipykernel)",
   "language": "python",
   "name": "python3"
  },
  "language_info": {
   "codemirror_mode": {
    "name": "ipython",
    "version": 3
   },
   "file_extension": ".py",
   "mimetype": "text/x-python",
   "name": "python",
   "nbconvert_exporter": "python",
   "pygments_lexer": "ipython3",
   "version": "3.8.13"
  }
 },
 "nbformat": 4,
 "nbformat_minor": 5
}
