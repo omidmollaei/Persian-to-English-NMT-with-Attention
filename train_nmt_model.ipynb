{
 "cells": [
  {
   "cell_type": "markdown",
   "metadata": {
    "id": "hwH5K1g6gcVS"
   },
   "source": [
    "<h3><b>Train a Neural Machine Translation model using attention mechanism to enhance it's performance.</b></h3>"
   ]
  },
  {
   "cell_type": "markdown",
   "metadata": {
    "id": "SpN-jqFyXm85"
   },
   "source": [
    "<h3><i>Step no.0: setup</i></h3>"
   ]
  },
  {
   "cell_type": "code",
   "execution_count": 3,
   "metadata": {
    "executionInfo": {
     "elapsed": 5018,
     "status": "ok",
     "timestamp": 1669646209185,
     "user": {
      "displayName": "Omid Mollaei",
      "userId": "07035692833892294312"
     },
     "user_tz": -210
    },
    "id": "j5MrLysqZjQy"
   },
   "outputs": [],
   "source": [
    "# Import libs\n",
    "import os\n",
    "import pickle\n",
    "import numpy as np\n",
    "import tensorflow as tf\n",
    "import matplotlib.pyplot as plt\n",
    "import matplotlib.ticker as ticker\n",
    "\n",
    "from nmt.dataset import Hyperparameters\n",
    "from nmt.dataset import get_anki_dataset\n",
    "from nmt.model import Translator\n",
    "from nmt.model import masked_loss, masked_acc"
   ]
  },
  {
   "cell_type": "code",
   "execution_count": 4,
   "metadata": {
    "colab": {
     "base_uri": "https://localhost:8080/"
    },
    "executionInfo": {
     "elapsed": 5,
     "status": "ok",
     "timestamp": 1669646212901,
     "user": {
      "displayName": "Omid Mollaei",
      "userId": "07035692833892294312"
     },
     "user_tz": -210
    },
    "id": "txzFwhx9biKD",
    "outputId": "184a0085-da41-4f72-c95d-7c4680bfbe8d"
   },
   "outputs": [
    {
     "name": "stdout",
     "output_type": "stream",
     "text": [
      "batch_size      : 32\n",
      "units           : 512\n",
      "num_heads       : 1\n",
      "vocab_size      : 15000\n"
     ]
    }
   ],
   "source": [
    "# define a hyper-parametrs object to hold required hyperparamters in on place.\n",
    "hp = Hyperparameters(\n",
    "    batch_size=32,\n",
    "    units=512,\n",
    "    num_heads=1,\n",
    "    vocab_size=15000,\n",
    ")\n",
    "\n",
    "for p, v in vars(hp).items():\n",
    "    print(f\"{p:15} : {v}\")"
   ]
  },
  {
   "cell_type": "markdown",
   "metadata": {
    "id": "2ChasmX8e7jQ"
   },
   "source": [
    "<h4><i>Step no.1: Load and explore dataset.</i></h4>"
   ]
  },
  {
   "cell_type": "code",
   "execution_count": 5,
   "metadata": {
    "executionInfo": {
     "elapsed": 2,
     "status": "ok",
     "timestamp": 1669646215983,
     "user": {
      "displayName": "Omid Mollaei",
      "userId": "07035692833892294312"
     },
     "user_tz": -210
    },
    "id": "20eY4xALph4V"
   },
   "outputs": [],
   "source": [
    "# define a function to filter out good-quality sentences from additional dataset\n",
    "\n",
    "def filter_or_clean(per, eng):\n",
    "    \"\"\"Based on persian sentences inside the additional dataset, it seems that \n",
    "    there exist some sentences which contains alot of ، and indeed most of \n",
    "    them are not grammatically correct due to preprocessing function inside \n",
    "    nmt_dataset_augmentation.ipynb which is the source of these additional \n",
    "    sentences. Most of the sentences with this characteristic are not suitable for\n",
    "    training the model, so we remove them to increase the qualtity of the extended\n",
    "    dataset.\"\"\"\n",
    "    \n",
    "    # Filtering\n",
    "    if per.count(\"،\") > 4:\n",
    "        return None, eng\n",
    "    \n",
    "    # Cleaning\n",
    "    per = per.replace(\"من\", \"\").replace(\"دوم\", \"\").replace(\"ii\", \"\").replace(\"I\", \"\").replace(\"II\", \"\")\n",
    "    eng = eng.replace(\"I\", \"\").replace(\"II\", \"\").replace(\"ii\", \"\")\n",
    "    return per, eng"
   ]
  },
  {
   "cell_type": "code",
   "execution_count": 6,
   "metadata": {
    "colab": {
     "base_uri": "https://localhost:8080/"
    },
    "executionInfo": {
     "elapsed": 6463,
     "status": "ok",
     "timestamp": 1669646223364,
     "user": {
      "displayName": "Omid Mollaei",
      "userId": "07035692833892294312"
     },
     "user_tz": -210
    },
    "id": "WekxZmCjchKO",
    "outputId": "2ae6f052-5dac-4b13-f521-b95efe3f9e7f"
   },
   "outputs": [
    {
     "name": "stdout",
     "output_type": "stream",
     "text": [
      "loading dataset and tokenizers ... done .\n"
     ]
    }
   ],
   "source": [
    "# load dataset\n",
    "print(\"loading dataset and tokenizers ...\", end=\" \")\n",
    "dataset, (inputs_tokenizer, targets_tokenizer) = get_anki_dataset(\n",
    "    vocab_size=hp.vocab_size, \n",
    "    batch_size=hp.batch_size,\n",
    "    extend=True,\n",
    "    extend_post_processor=filter_or_clean,\n",
    ")\n",
    "\n",
    "print(\"done .\")"
   ]
  },
  {
   "cell_type": "code",
   "execution_count": 7,
   "metadata": {
    "colab": {
     "base_uri": "https://localhost:8080/"
    },
    "executionInfo": {
     "elapsed": 17,
     "status": "ok",
     "timestamp": 1669646223365,
     "user": {
      "displayName": "Omid Mollaei",
      "userId": "07035692833892294312"
     },
     "user_tz": -210
    },
    "id": "_xSCxZBgdOIS",
    "outputId": "6fdcacd8-e410-4770-dc05-5c990a026340"
   },
   "outputs": [
    {
     "name": "stdout",
     "output_type": "stream",
     "text": [
      "encoder input shape:    (32, 42)\n",
      "decoder input shape:    (32, 36)\n",
      "output/target shape:    (32, 36)\n"
     ]
    }
   ],
   "source": [
    "# a quick glance at dataset shape\n",
    "for inputs, outputs in dataset.take(1):\n",
    "    enc_input, dec_input = inputs['enc_inputs'], inputs[\"dec_inputs\"]\n",
    "    print(f\"encoder input shape:{'':3} {enc_input.shape}\")\n",
    "    print(f\"decoder input shape:{'':3} {dec_input.shape}\")\n",
    "    print(f\"output/target shape:{'':3} {outputs.shape}\")"
   ]
  },
  {
   "cell_type": "code",
   "execution_count": 8,
   "metadata": {
    "executionInfo": {
     "elapsed": 859,
     "status": "ok",
     "timestamp": 1669646236596,
     "user": {
      "displayName": "Omid Mollaei",
      "userId": "07035692833892294312"
     },
     "user_tz": -210
    },
    "id": "UlS9-9z9eoE_"
   },
   "outputs": [],
   "source": [
    "# save the tokenizers config to disk, so we can build a same tokenizer as these later.\n",
    "tokenizers_path = os.path.join(\".\", \"tokenizers\")\n",
    "if not os.path.exists(tokenizers_path):\n",
    "    os.mkdir(tokenizers_path)\n",
    "\n",
    "# save tokenizers config\n",
    "inputs_tokenizer_filepath = os.path.join(tokenizers_path, \"inputs_tokenizer_config.pkl\")\n",
    "targets_tokenizer_filepath = os.path.join(tokenizers_path, \"targets_tokenizer_config.pkl\")\n",
    "pickle.dump({'config': inputs_tokenizer.get_config(), 'weights': inputs_tokenizer.get_weights()}, \n",
    "            open(inputs_tokenizer_filepath, \"wb\"))\n",
    "pickle.dump({'config': targets_tokenizer.get_config(), 'weights': targets_tokenizer.get_weights()}, \n",
    "            open(targets_tokenizer_filepath, \"wb\"))\n",
    "# =================================================== #\n",
    "\n",
    "\n",
    "# it's better to save the vocabularies too.\n",
    "input_vocabs_filepath = os.path.join(tokenizers_path, \"inputs_vocab.npy\")\n",
    "target_vocabs_filepath = os.path.join(tokenizers_path, \"targets_vocab.npy\")\n",
    "\n",
    "inputs_vocab = np.array(inputs_tokenizer.get_vocabulary())\n",
    "targets_vocab = np.array(targets_tokenizer.get_vocabulary())\n",
    "\n",
    "with open(input_vocabs_filepath, 'wb') as file:\n",
    "    np.save(file, inputs_vocab)\n",
    "with open(target_vocabs_filepath, 'wb') as file:\n",
    "    np.save(file, targets_vocab)\n",
    "    # =================================================== #"
   ]
  },
  {
   "cell_type": "code",
   "execution_count": 9,
   "metadata": {
    "executionInfo": {
     "elapsed": 643,
     "status": "ok",
     "timestamp": 1669646247471,
     "user": {
      "displayName": "Omid Mollaei",
      "userId": "07035692833892294312"
     },
     "user_tz": -210
    },
    "id": "e9LM4E-6hX8o"
   },
   "outputs": [],
   "source": [
    "## HOW TO LOAD \n",
    "## 1. tokenizers\n",
    "\n",
    "#from_disk = pickle.load(open(inputs_tokenizer_filepath, \"rb\"))\n",
    "#inputs_tokenizer = tf.keras.layers.TextVectorization.from_config(from_disk['config'])\n",
    "#inputs_tokenizer.adapt(tf.data.Dataset.from_tensor_slices([\"xyz\"]))   # call with sume dummy data\n",
    "#inputs_tokenizer.set_weights(from_disk['weights'])\n",
    "\n",
    "#from_disk = pickle.load(open(targets_tokenizer_filepath, \"rb\"))\n",
    "#targets_tokenizer = tf.keras.layers.TextVectorization.from_config(from_disk['config'])\n",
    "#targets_tokenizer.adapt(tf.data.Dataset.from_tensor_slices([\"xyz\"]))   # call with sume dummy data\n",
    "#targets_tokenizer.set_weights(from_disk['weights'])\n",
    "\n",
    "## 2. load vocabs\n",
    "#with open(input_vocabs_filepath, 'rb') as file:\n",
    "#    inputs_vocab = np.load(file)\n",
    "\n",
    "#with open(targets_tokenizer_filepath, 'rb') as file:\n",
    "#    targets_vocab = np.load(file)\n",
    "\n",
    "## the first part is sufficent for loading tokenizers."
   ]
  },
  {
   "cell_type": "code",
   "execution_count": 10,
   "metadata": {
    "colab": {
     "base_uri": "https://localhost:8080/",
     "height": 281
    },
    "executionInfo": {
     "elapsed": 5,
     "status": "ok",
     "timestamp": 1669646249333,
     "user": {
      "displayName": "Omid Mollaei",
      "userId": "07035692833892294312"
     },
     "user_tz": -210
    },
    "id": "YxIEla85izo9",
    "outputId": "4bed8685-2da2-4e44-99d3-f89e1651e11a"
   },
   "outputs": [
    {
     "data": {
      "image/png": "[encoded data removed]",
      "text/plain": [
       "<Figure size 432x288 with 2 Axes>"
      ]
     },
     "metadata": {
      "needs_background": "light"
     },
     "output_type": "display_data"
    }
   ],
   "source": [
    "plt.subplot(1, 2, 1)\n",
    "plt.pcolormesh(enc_input)\n",
    "_ = plt.title(\"Token IDs\")\n",
    "\n",
    "plt.subplot(1, 2, 2)\n",
    "plt.pcolormesh(enc_input != 0)\n",
    "_ = plt.title(\"Mask\")"
   ]
  },
  {
   "cell_type": "code",
   "execution_count": 11,
   "metadata": {
    "executionInfo": {
     "elapsed": 3,
     "status": "ok",
     "timestamp": 1669646251405,
     "user": {
      "displayName": "Omid Mollaei",
      "userId": "07035692833892294312"
     },
     "user_tz": -210
    },
    "id": "8_BG9bQ0kviB"
   },
   "outputs": [],
   "source": [
    "# Define a function to convert a tokenized sentence into text\n",
    "\n",
    "source_vocabs = np.array(inputs_tokenizer.get_vocabulary())\n",
    "target_vocabs = np.array(targets_tokenizer.get_vocabulary())\n",
    "\n",
    "def convert_tokens_to_text(tokens, lang=\"persian\"):\n",
    "    tokens = tokens.numpy() if isinstance(tokens, tf.RaggedTensor) else tokens\n",
    "    if lang == \"persian\":\n",
    "        return ' '.join(source_vocabs[tokens][0])\n",
    "    return ' '.join(target_vocabs[tokens][0])"
   ]
  },
  {
   "cell_type": "markdown",
   "metadata": {
    "id": "E71ogRCtj0AK"
   },
   "source": [
    "<h3><i>Step no.2: Build the Model.</i></h3>"
   ]
  },
  {
   "cell_type": "code",
   "execution_count": 12,
   "metadata": {
    "executionInfo": {
     "elapsed": 1,
     "status": "ok",
     "timestamp": 1669646253155,
     "user": {
      "displayName": "Omid Mollaei",
      "userId": "07035692833892294312"
     },
     "user_tz": -210
    },
    "id": "Ao1Fkr8QjMPl"
   },
   "outputs": [],
   "source": [
    "# Build the Model\n",
    "\n",
    "nmt_model = Translator(\n",
    "    inputs_tokenizer,\n",
    "    targets_tokenizer,\n",
    "    units=hp.units,\n",
    "    attn_num_heads=hp.num_heads,\n",
    ")"
   ]
  },
  {
   "cell_type": "code",
   "execution_count": 13,
   "metadata": {
    "executionInfo": {
     "elapsed": 1,
     "status": "ok",
     "timestamp": 1669646254091,
     "user": {
      "displayName": "Omid Mollaei",
      "userId": "07035692833892294312"
     },
     "user_tz": -210
    },
    "id": "H3ERr5Ieno-K"
   },
   "outputs": [],
   "source": [
    "# Compile the Model\n",
    "nmt_model.compile(optimizer=\"adam\", loss=masked_loss, \n",
    "                  metrics=[masked_loss, masked_acc])"
   ]
  },
  {
   "cell_type": "code",
   "execution_count": 14,
   "metadata": {
    "colab": {
     "base_uri": "https://localhost:8080/"
    },
    "executionInfo": {
     "elapsed": 665863,
     "status": "ok",
     "timestamp": 1669646930258,
     "user": {
      "displayName": "Omid Mollaei",
      "userId": "07035692833892294312"
     },
     "user_tz": -210
    },
    "id": "bTidIg9LoM-u",
    "outputId": "29215ccc-6703-479c-9945-0cdbb40fd591"
   },
   "outputs": [
    {
     "name": "stdout",
     "output_type": "stream",
     "text": [
      "Epoch 1/100\n",
      "100/100 [==============================] - 41s 221ms/step - loss: 6.4548 - masked_loss: 6.4548 - masked_acc: 0.1225\n",
      "Epoch 2/100\n",
      "100/100 [==============================] - 10s 103ms/step - loss: 5.6176 - masked_loss: 5.6176 - masked_acc: 0.2139\n",
      "Epoch 3/100\n",
      "100/100 [==============================] - 9s 91ms/step - loss: 4.8287 - masked_loss: 4.8262 - masked_acc: 0.2842\n",
      "Epoch 4/100\n",
      "100/100 [==============================] - 7s 69ms/step - loss: 4.3537 - masked_loss: 4.3537 - masked_acc: 0.3344\n",
      "Epoch 5/100\n",
      "100/100 [==============================] - 7s 73ms/step - loss: 4.0170 - masked_loss: 4.0163 - masked_acc: 0.3694\n",
      "Epoch 6/100\n",
      "100/100 [==============================] - 7s 71ms/step - loss: 2.9824 - masked_loss: 2.9824 - masked_acc: 0.4609\n",
      "Epoch 7/100\n",
      "100/100 [==============================] - 6s 64ms/step - loss: 2.9541 - masked_loss: 2.9541 - masked_acc: 0.4721\n",
      "Epoch 8/100\n",
      "100/100 [==============================] - 7s 65ms/step - loss: 2.2075 - masked_loss: 2.2136 - masked_acc: 0.5695\n",
      "Epoch 9/100\n",
      "100/100 [==============================] - 6s 64ms/step - loss: 1.8451 - masked_loss: 1.8451 - masked_acc: 0.6047\n",
      "Epoch 10/100\n",
      "100/100 [==============================] - 7s 66ms/step - loss: 1.7471 - masked_loss: 1.7512 - masked_acc: 0.6248\n",
      "Epoch 11/100\n",
      "100/100 [==============================] - 6s 61ms/step - loss: 0.9822 - masked_loss: 0.9822 - masked_acc: 0.7620\n",
      "Epoch 12/100\n",
      "100/100 [==============================] - 6s 64ms/step - loss: 1.0551 - masked_loss: 1.0551 - masked_acc: 0.7453\n",
      "Epoch 13/100\n",
      "100/100 [==============================] - 7s 66ms/step - loss: 0.7359 - masked_loss: 0.7372 - masked_acc: 0.8177\n",
      "Epoch 14/100\n",
      "100/100 [==============================] - 6s 61ms/step - loss: 0.6033 - masked_loss: 0.6033 - masked_acc: 0.8445\n",
      "Epoch 15/100\n",
      "100/100 [==============================] - 6s 65ms/step - loss: 0.5846 - masked_loss: 0.5846 - masked_acc: 0.8491\n",
      "Epoch 16/100\n",
      "100/100 [==============================] - 6s 63ms/step - loss: 0.3688 - masked_loss: 0.3688 - masked_acc: 0.9015\n",
      "Epoch 17/100\n",
      "100/100 [==============================] - 6s 63ms/step - loss: 0.4038 - masked_loss: 0.4038 - masked_acc: 0.8933\n",
      "Epoch 18/100\n",
      "100/100 [==============================] - 6s 59ms/step - loss: 0.2998 - masked_loss: 0.2997 - masked_acc: 0.9212\n",
      "Epoch 19/100\n",
      "100/100 [==============================] - 6s 60ms/step - loss: 0.2503 - masked_loss: 0.2503 - masked_acc: 0.9324\n",
      "Epoch 20/100\n",
      "100/100 [==============================] - 6s 62ms/step - loss: 0.2596 - masked_loss: 0.2605 - masked_acc: 0.9299\n",
      "Epoch 21/100\n",
      "100/100 [==============================] - 7s 66ms/step - loss: 0.1791 - masked_loss: 0.1791 - masked_acc: 0.9525\n",
      "Epoch 22/100\n",
      "100/100 [==============================] - 6s 63ms/step - loss: 0.2004 - masked_loss: 0.2004 - masked_acc: 0.9460\n",
      "Epoch 23/100\n",
      "100/100 [==============================] - 7s 66ms/step - loss: 0.1482 - masked_loss: 0.1477 - masked_acc: 0.9610\n",
      "Epoch 24/100\n",
      "100/100 [==============================] - 6s 61ms/step - loss: 0.1463 - masked_loss: 0.1463 - masked_acc: 0.9615\n",
      "Epoch 25/100\n",
      "100/100 [==============================] - 8s 78ms/step - loss: 0.1514 - masked_loss: 0.1513 - masked_acc: 0.9601\n",
      "Epoch 26/100\n",
      "100/100 [==============================] - 6s 62ms/step - loss: 0.1209 - masked_loss: 0.1209 - masked_acc: 0.9692\n",
      "Epoch 27/100\n",
      "100/100 [==============================] - 6s 59ms/step - loss: 0.1358 - masked_loss: 0.1358 - masked_acc: 0.9639\n",
      "Epoch 28/100\n",
      "100/100 [==============================] - 6s 64ms/step - loss: 0.1112 - masked_loss: 0.1115 - masked_acc: 0.9714\n",
      "Epoch 29/100\n",
      "100/100 [==============================] - 6s 59ms/step - loss: 0.1114 - masked_loss: 0.1114 - masked_acc: 0.9703\n",
      "Epoch 30/100\n",
      "100/100 [==============================] - 6s 61ms/step - loss: 0.1139 - masked_loss: 0.1138 - masked_acc: 0.9701\n",
      "Epoch 31/100\n",
      "100/100 [==============================] - 6s 60ms/step - loss: 0.1100 - masked_loss: 0.1100 - masked_acc: 0.9714\n",
      "Epoch 32/100\n",
      "100/100 [==============================] - 6s 61ms/step - loss: 0.1291 - masked_loss: 0.1298 - masked_acc: 0.9660\n",
      "Epoch 33/100\n",
      "100/100 [==============================] - 6s 60ms/step - loss: 0.1243 - masked_loss: 0.1243 - masked_acc: 0.9673\n",
      "Epoch 34/100\n",
      "100/100 [==============================] - 6s 61ms/step - loss: 0.1271 - masked_loss: 0.1271 - masked_acc: 0.9662\n",
      "Epoch 35/100\n",
      "100/100 [==============================] - 6s 64ms/step - loss: 0.1224 - masked_loss: 0.1224 - masked_acc: 0.9676\n",
      "Epoch 36/100\n",
      "100/100 [==============================] - 6s 59ms/step - loss: 0.1173 - masked_loss: 0.1173 - masked_acc: 0.9680\n",
      "Epoch 37/100\n",
      "100/100 [==============================] - 6s 62ms/step - loss: 0.1326 - masked_loss: 0.1327 - masked_acc: 0.9650\n",
      "Epoch 38/100\n",
      "100/100 [==============================] - 6s 59ms/step - loss: 0.1239 - masked_loss: 0.1239 - masked_acc: 0.9669\n",
      "Epoch 39/100\n",
      "100/100 [==============================] - 6s 59ms/step - loss: 0.1357 - masked_loss: 0.1357 - masked_acc: 0.9633\n",
      "Epoch 40/100\n",
      "100/100 [==============================] - 6s 59ms/step - loss: 0.1204 - masked_loss: 0.1198 - masked_acc: 0.9657\n",
      "Epoch 41/100\n",
      "100/100 [==============================] - 6s 60ms/step - loss: 0.1213 - masked_loss: 0.1213 - masked_acc: 0.9672\n",
      "Epoch 42/100\n",
      "100/100 [==============================] - 6s 63ms/step - loss: 0.1288 - masked_loss: 0.1285 - masked_acc: 0.9655\n",
      "Epoch 43/100\n",
      "100/100 [==============================] - 6s 59ms/step - loss: 0.1132 - masked_loss: 0.1132 - masked_acc: 0.9701\n",
      "Epoch 44/100\n",
      "100/100 [==============================] - 6s 62ms/step - loss: 0.1167 - masked_loss: 0.1167 - masked_acc: 0.9685\n",
      "Epoch 45/100\n",
      "100/100 [==============================] - 6s 63ms/step - loss: 0.1021 - masked_loss: 0.1019 - masked_acc: 0.9732\n",
      "Epoch 46/100\n",
      "100/100 [==============================] - 6s 61ms/step - loss: 0.1060 - masked_loss: 0.1060 - masked_acc: 0.9726\n",
      "Epoch 47/100\n",
      "100/100 [==============================] - 7s 65ms/step - loss: 0.1141 - masked_loss: 0.1148 - masked_acc: 0.9683\n",
      "Epoch 48/100\n",
      "100/100 [==============================] - 6s 62ms/step - loss: 0.0908 - masked_loss: 0.0908 - masked_acc: 0.9767\n",
      "Epoch 49/100\n",
      "100/100 [==============================] - 6s 62ms/step - loss: 0.0951 - masked_loss: 0.0951 - masked_acc: 0.9744\n",
      "Epoch 50/100\n",
      "100/100 [==============================] - 7s 66ms/step - loss: 0.0944 - masked_loss: 0.0947 - masked_acc: 0.9761\n",
      "Epoch 51/100\n",
      "100/100 [==============================] - 6s 60ms/step - loss: 0.0839 - masked_loss: 0.0839 - masked_acc: 0.9773\n",
      "Epoch 52/100\n",
      "100/100 [==============================] - 6s 63ms/step - loss: 0.0744 - masked_loss: 0.0745 - masked_acc: 0.9803\n",
      "Epoch 53/100\n",
      "100/100 [==============================] - 6s 59ms/step - loss: 0.0706 - masked_loss: 0.0706 - masked_acc: 0.9825\n",
      "Epoch 54/100\n",
      "100/100 [==============================] - 6s 60ms/step - loss: 0.0764 - masked_loss: 0.0764 - masked_acc: 0.9800\n",
      "Epoch 55/100\n",
      "100/100 [==============================] - 6s 62ms/step - loss: 0.0708 - masked_loss: 0.0711 - masked_acc: 0.9817\n",
      "Epoch 56/100\n",
      "100/100 [==============================] - 6s 64ms/step - loss: 0.0741 - masked_loss: 0.0741 - masked_acc: 0.9819\n",
      "Epoch 57/100\n",
      "100/100 [==============================] - 6s 61ms/step - loss: 0.0768 - masked_loss: 0.0767 - masked_acc: 0.9808\n",
      "Epoch 58/100\n",
      "100/100 [==============================] - 6s 60ms/step - loss: 0.0741 - masked_loss: 0.0741 - masked_acc: 0.9802\n",
      "Epoch 59/100\n",
      "100/100 [==============================] - 6s 59ms/step - loss: 0.0791 - masked_loss: 0.0791 - masked_acc: 0.9798\n",
      "Epoch 60/100\n",
      "100/100 [==============================] - 6s 61ms/step - loss: 0.0780 - masked_loss: 0.0780 - masked_acc: 0.9806\n",
      "Epoch 61/100\n",
      "100/100 [==============================] - 6s 63ms/step - loss: 0.0795 - masked_loss: 0.0795 - masked_acc: 0.9798\n",
      "Epoch 62/100\n",
      "100/100 [==============================] - 6s 62ms/step - loss: 0.0702 - masked_loss: 0.0700 - masked_acc: 0.9821\n",
      "Epoch 63/100\n",
      "100/100 [==============================] - 6s 60ms/step - loss: 0.0729 - masked_loss: 0.0729 - masked_acc: 0.9812\n",
      "Epoch 64/100\n",
      "100/100 [==============================] - 6s 61ms/step - loss: 0.0902 - masked_loss: 0.0897 - masked_acc: 0.9761\n",
      "Epoch 65/100\n",
      "100/100 [==============================] - 6s 59ms/step - loss: 0.0820 - masked_loss: 0.0820 - masked_acc: 0.9792\n",
      "Epoch 66/100\n",
      "100/100 [==============================] - 6s 62ms/step - loss: 0.0841 - masked_loss: 0.0841 - masked_acc: 0.9771\n",
      "Epoch 67/100\n",
      "100/100 [==============================] - 6s 61ms/step - loss: 0.0850 - masked_loss: 0.0848 - masked_acc: 0.9769\n",
      "Epoch 68/100\n",
      "100/100 [==============================] - 6s 59ms/step - loss: 0.0796 - masked_loss: 0.0796 - masked_acc: 0.9806\n",
      "Epoch 69/100\n",
      "100/100 [==============================] - 6s 62ms/step - loss: 0.0846 - masked_loss: 0.0854 - masked_acc: 0.9769\n",
      "Epoch 70/100\n",
      "100/100 [==============================] - 6s 61ms/step - loss: 0.0845 - masked_loss: 0.0845 - masked_acc: 0.9795\n",
      "Epoch 71/100\n",
      "100/100 [==============================] - 6s 61ms/step - loss: 0.0761 - masked_loss: 0.0761 - masked_acc: 0.9797\n",
      "Epoch 72/100\n",
      "100/100 [==============================] - 8s 77ms/step - loss: 0.0733 - masked_loss: 0.0742 - masked_acc: 0.9802\n",
      "Epoch 73/100\n",
      "100/100 [==============================] - 6s 60ms/step - loss: 0.0614 - masked_loss: 0.0614 - masked_acc: 0.9839\n",
      "Epoch 74/100\n",
      "100/100 [==============================] - 6s 62ms/step - loss: 0.0626 - masked_loss: 0.0622 - masked_acc: 0.9838\n",
      "Epoch 75/100\n",
      "100/100 [==============================] - 6s 61ms/step - loss: 0.0540 - masked_loss: 0.0540 - masked_acc: 0.9871\n",
      "Epoch 76/100\n",
      "100/100 [==============================] - 6s 60ms/step - loss: 0.0596 - masked_loss: 0.0596 - masked_acc: 0.9852\n",
      "Epoch 77/100\n",
      "100/100 [==============================] - 6s 62ms/step - loss: 0.0596 - masked_loss: 0.0597 - masked_acc: 0.9855\n",
      "Epoch 78/100\n",
      "100/100 [==============================] - 6s 59ms/step - loss: 0.0517 - masked_loss: 0.0517 - masked_acc: 0.9870\n",
      "Epoch 79/100\n",
      "100/100 [==============================] - 6s 61ms/step - loss: 0.0569 - masked_loss: 0.0567 - masked_acc: 0.9856\n",
      "Epoch 80/100\n",
      "100/100 [==============================] - 6s 59ms/step - loss: 0.0488 - masked_loss: 0.0488 - masked_acc: 0.9880\n",
      "Epoch 81/100\n",
      "100/100 [==============================] - 6s 60ms/step - loss: 0.0543 - masked_loss: 0.0543 - masked_acc: 0.9861\n",
      "Epoch 82/100\n",
      "100/100 [==============================] - 6s 62ms/step - loss: 0.0526 - masked_loss: 0.0527 - masked_acc: 0.9866\n",
      "Epoch 83/100\n",
      "100/100 [==============================] - 6s 60ms/step - loss: 0.0572 - masked_loss: 0.0572 - masked_acc: 0.9851\n",
      "Epoch 84/100\n",
      "100/100 [==============================] - 6s 60ms/step - loss: 0.0633 - masked_loss: 0.0638 - masked_acc: 0.9850\n",
      "Epoch 85/100\n",
      "100/100 [==============================] - 6s 60ms/step - loss: 0.0623 - masked_loss: 0.0623 - masked_acc: 0.9838\n",
      "Epoch 86/100\n",
      "100/100 [==============================] - 6s 60ms/step - loss: 0.0737 - masked_loss: 0.0737 - masked_acc: 0.9813\n",
      "Epoch 87/100\n",
      "100/100 [==============================] - 6s 61ms/step - loss: 0.0693 - masked_loss: 0.0689 - masked_acc: 0.9826\n",
      "Epoch 88/100\n",
      "100/100 [==============================] - 6s 59ms/step - loss: 0.0727 - masked_loss: 0.0727 - masked_acc: 0.9801\n",
      "Epoch 89/100\n",
      "100/100 [==============================] - 6s 59ms/step - loss: 0.0824 - masked_loss: 0.0826 - masked_acc: 0.9797\n",
      "Epoch 90/100\n",
      "100/100 [==============================] - 6s 59ms/step - loss: 0.0686 - masked_loss: 0.0686 - masked_acc: 0.9819\n",
      "Epoch 91/100\n",
      "100/100 [==============================] - 6s 63ms/step - loss: 0.0797 - masked_loss: 0.0797 - masked_acc: 0.9800\n",
      "Epoch 92/100\n",
      "100/100 [==============================] - 6s 61ms/step - loss: 0.0733 - masked_loss: 0.0737 - masked_acc: 0.9815\n",
      "Epoch 93/100\n",
      "100/100 [==============================] - 6s 60ms/step - loss: 0.0705 - masked_loss: 0.0705 - masked_acc: 0.9811\n",
      "Epoch 94/100\n",
      "100/100 [==============================] - 6s 61ms/step - loss: 0.0593 - masked_loss: 0.0591 - masked_acc: 0.9843\n",
      "Epoch 95/100\n",
      "100/100 [==============================] - 6s 61ms/step - loss: 0.0583 - masked_loss: 0.0583 - masked_acc: 0.9866\n",
      "Epoch 96/100\n",
      "100/100 [==============================] - 6s 59ms/step - loss: 0.0595 - masked_loss: 0.0612 - masked_acc: 0.9841\n",
      "Epoch 97/100\n",
      "100/100 [==============================] - 6s 63ms/step - loss: 0.0520 - masked_loss: 0.0520 - masked_acc: 0.9875\n",
      "Epoch 98/100\n",
      "100/100 [==============================] - 6s 60ms/step - loss: 0.0487 - masked_loss: 0.0487 - masked_acc: 0.9876\n",
      "Epoch 99/100\n",
      "100/100 [==============================] - 6s 60ms/step - loss: 0.0474 - masked_loss: 0.0472 - masked_acc: 0.9883\n",
      "Epoch 100/100\n",
      "100/100 [==============================] - 6s 60ms/step - loss: 0.0420 - masked_loss: 0.0420 - masked_acc: 0.9897\n"
     ]
    }
   ],
   "source": [
    "history = nmt_model.fit(\n",
    "    dataset.repeat(),\n",
    "    epochs=100,\n",
    "    steps_per_epoch = 100,\n",
    ")"
   ]
  },
  {
   "cell_type": "markdown",
   "metadata": {
    "id": "hYU2zBx6tFut"
   },
   "source": [
    "<h3><i>Step no.3: Plot the loss and accuracy history.</i></h3>"
   ]
  },
  {
   "cell_type": "code",
   "execution_count": 15,
   "metadata": {
    "colab": {
     "base_uri": "https://localhost:8080/",
     "height": 297
    },
    "executionInfo": {
     "elapsed": 2692,
     "status": "ok",
     "timestamp": 1669646944236,
     "user": {
      "displayName": "Omid Mollaei",
      "userId": "07035692833892294312"
     },
     "user_tz": -210
    },
    "id": "3zc2XrINpbL0",
    "outputId": "fab3d815-1b18-4e16-8e75-946fffe370db"
   },
   "outputs": [
    {
     "data": {
      "text/plain": [
       "<matplotlib.legend.Legend at 0x7f2183f52a50>"
      ]
     },
     "execution_count": 15,
     "metadata": {},
     "output_type": "execute_result"
    },
    {
     "data": {
      "image/png": "[encoded data removed]",
      "text/plain": [
       "<Figure size 432x288 with 1 Axes>"
      ]
     },
     "metadata": {
      "needs_background": "light"
     },
     "output_type": "display_data"
    }
   ],
   "source": [
    "plt.plot(history.history['loss'], label='loss')\n",
    "plt.ylim([0, max(plt.ylim())])\n",
    "plt.xlabel('Epoch #')\n",
    "plt.ylabel('CE/token')\n",
    "plt.legend()"
   ]
  },
  {
   "cell_type": "code",
   "execution_count": 16,
   "metadata": {
    "colab": {
     "base_uri": "https://localhost:8080/",
     "height": 297
    },
    "executionInfo": {
     "elapsed": 1057,
     "status": "ok",
     "timestamp": 1669646950617,
     "user": {
      "displayName": "Omid Mollaei",
      "userId": "07035692833892294312"
     },
     "user_tz": -210
    },
    "id": "dtZDfHVatTKR",
    "outputId": "f3f32091-4030-4f59-d14e-80118186bf9b"
   },
   "outputs": [
    {
     "data": {
      "text/plain": [
       "<matplotlib.legend.Legend at 0x7f2183ee8e50>"
      ]
     },
     "execution_count": 16,
     "metadata": {},
     "output_type": "execute_result"
    },
    {
     "data": {
      "image/png": "[encoded data removed]",
      "text/plain": [
       "<Figure size 432x288 with 1 Axes>"
      ]
     },
     "metadata": {
      "needs_background": "light"
     },
     "output_type": "display_data"
    }
   ],
   "source": [
    "plt.plot(history.history['masked_acc'], label='accuracy')\n",
    "plt.ylim([0, max(plt.ylim())])\n",
    "plt.xlabel('Epoch #')\n",
    "plt.ylabel('CE/token')\n",
    "plt.legend()"
   ]
  },
  {
   "cell_type": "markdown",
   "metadata": {
    "id": "wiCUsQBsteyx"
   },
   "source": [
    "<h3><i>Step no.4: Evaluate the model</i></h3>"
   ]
  },
  {
   "cell_type": "code",
   "execution_count": 17,
   "metadata": {
    "colab": {
     "base_uri": "https://localhost:8080/"
    },
    "executionInfo": {
     "elapsed": 1557,
     "status": "ok",
     "timestamp": 1669646960900,
     "user": {
      "displayName": "Omid Mollaei",
      "userId": "07035692833892294312"
     },
     "user_tz": -210
    },
    "id": "mfV27cD_tYEJ",
    "outputId": "1b789e86-fcd4-48cc-c691-19e1967b1c9d"
   },
   "outputs": [
    {
     "name": "stdout",
     "output_type": "stream",
     "text": [
      "سلام . حالت چطوره: for it is not lawful . \n",
      "\n",
      "با تو موافقم: confused with you , \n",
      "\n",
      "من داشتم قدم می زدم: i was taking a \n",
      "\n",
      "دوست من یک دکتر است: its a friend to lazica , \n",
      "\n"
     ]
    }
   ],
   "source": [
    "texts = [\"سلام . حالت چطوره\", \"با تو موافقم\", \"من داشتم قدم می زدم\", \"دوست من یک دکتر است\"]\n",
    "\n",
    "for t in texts:\n",
    "    result = nmt_model.translate([t])\n",
    "    translated = result[0].numpy().decode()\n",
    "    print(f\"{t:10}: {translated}\")\n",
    "    print()"
   ]
  },
  {
   "cell_type": "code",
   "execution_count": null,
   "metadata": {},
   "outputs": [],
   "source": [
    "# it needs to be trained on more data for more epochs."
   ]
  }
 ],
 "metadata": {
  "accelerator": "GPU",
  "colab": {
   "provenance": []
  },
  "gpuClass": "standard",
  "kernelspec": {
   "display_name": "Python 3 (ipykernel)",
   "language": "python",
   "name": "python3"
  },
  "language_info": {
   "codemirror_mode": {
    "name": "ipython",
    "version": 3
   },
   "file_extension": ".py",
   "mimetype": "text/x-python",
   "name": "python",
   "nbconvert_exporter": "python",
   "pygments_lexer": "ipython3",
   "version": "3.8.13"
  }
 },
 "nbformat": 4,
 "nbformat_minor": 1
}
