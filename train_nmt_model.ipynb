{
 "cells": [
  {
   "cell_type": "markdown",
   "id": "2b7f8680",
   "metadata": {
    "pycharm": {
     "name": ""
    }
   },
   "source": [
    "<h3><b>Train a Neural Machine Translation model using attention mechanism to enhance it's performance.</b></h3>"
   ]
  },
  {
   "cell_type": "markdown",
   "id": "98050103",
   "metadata": {},
   "source": [
    "<h4><i>0. Setup </i></h4>"
   ]
  },
  {
   "cell_type": "code",
   "execution_count": 1,
   "id": "9f6bd2af",
   "metadata": {},
   "outputs": [],
   "source": [
    "import os\n",
    "import numpy as np\n",
    "import tensorflow as tf\n",
    "\n",
    "from model import Translator\n",
    "from model import masked_loss, masked_acc \n",
    "from nmt_dataset import DatasetConfig\n",
    "from nmt_dataset import load_dataset\n",
    "from nmt_dataset import decode"
   ]
  },
  {
   "cell_type": "markdown",
   "id": "4be7791d",
   "metadata": {},
   "source": [
    "<h4><i>1. Load dataset. </i></h4>"
   ]
  },
  {
   "cell_type": "code",
   "execution_count": 2,
   "id": "6f7ca27e",
   "metadata": {},
   "outputs": [],
   "source": [
    "# define dataset loading config\n",
    "ds_config = DatasetConfig(\n",
    "    vocab_size=25_000,\n",
    "    max_sequence_len=45,\n",
    "    batch_size=32,\n",
    "    inputs_preprocessor=None,\n",
    "    targets_preprocessor=None,\n",
    ")"
   ]
  },
  {
   "cell_type": "code",
   "execution_count": 3,
   "id": "430a866f",
   "metadata": {},
   "outputs": [
    {
     "name": "stdout",
     "output_type": "stream",
     "text": [
      "loading dataset and tokenizers ... done.\n"
     ]
    }
   ],
   "source": [
    "# load dataset\n",
    "\n",
    "print(\"loading dataset and tokenizers ...\", end=\" \")\n",
    "dataset, inputs_vectorizer, targets_vectorizer = load_dataset(\n",
    "    config=ds_config\n",
    ")\n",
    "print(\"done.\")"
   ]
  },
  {
   "cell_type": "code",
   "execution_count": 4,
   "id": "affbfb6a",
   "metadata": {},
   "outputs": [
    {
     "name": "stdout",
     "output_type": "stream",
     "text": [
      "encoder input shape:    (32, 45)\n",
      "decoder input shape:    (32, 44)\n",
      "output target shape:    (32, 44)\n"
     ]
    }
   ],
   "source": [
    "# a quick glance at dataset's input and output structure.\n",
    "\n",
    "for inputs, outputs in dataset.take(1):\n",
    "    enc_input, dec_input = inputs[\"enc_inputs\"], inputs[\"dec_inputs\"]\n",
    "    print(f\"encoder input shape:{'':3} {enc_input.shape}\")\n",
    "    print(f\"decoder input shape:{'':3} {dec_input.shape}\")\n",
    "    print(f\"output target shape:{'':3} {outputs.shape}\")"
   ]
  },
  {
   "cell_type": "code",
   "execution_count": null,
   "id": "a67c6fe0",
   "metadata": {},
   "outputs": [],
   "source": []
  }
 ],
 "metadata": {
  "kernelspec": {
   "display_name": "Python 3 (ipykernel)",
   "language": "python",
   "name": "python3"
  },
  "language_info": {
   "codemirror_mode": {
    "name": "ipython",
    "version": 3
   },
   "file_extension": ".py",
   "mimetype": "text/x-python",
   "name": "python",
   "nbconvert_exporter": "python",
   "pygments_lexer": "ipython3",
   "version": "3.8.13"
  }
 },
 "nbformat": 4,
 "nbformat_minor": 5
}
